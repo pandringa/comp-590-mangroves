{
 "cells": [
  {
   "cell_type": "code",
   "execution_count": 4,
   "metadata": {},
   "outputs": [
    {
     "name": "stdout",
     "output_type": "stream",
     "text": [
      "Requirement already satisfied: google-api-python-client in /srv/conda/envs/notebook/lib/python3.7/site-packages (1.7.11)\n",
      "Requirement already satisfied: earthengine-api in /srv/conda/envs/notebook/lib/python3.7/site-packages (0.1.213)\n",
      "Requirement already satisfied: google-auth-httplib2>=0.0.3 in /srv/conda/envs/notebook/lib/python3.7/site-packages (from google-api-python-client) (0.0.3)\n",
      "Requirement already satisfied: httplib2<1dev,>=0.9.2 in /srv/conda/envs/notebook/lib/python3.7/site-packages (from google-api-python-client) (0.17.0)\n",
      "Requirement already satisfied: google-auth>=1.4.1 in /srv/conda/envs/notebook/lib/python3.7/site-packages (from google-api-python-client) (1.11.0)\n",
      "Requirement already satisfied: uritemplate<4dev,>=3.0.0 in /srv/conda/envs/notebook/lib/python3.7/site-packages (from google-api-python-client) (3.0.1)\n",
      "Requirement already satisfied: six<2dev,>=1.6.1 in /srv/conda/envs/notebook/lib/python3.7/site-packages (from google-api-python-client) (1.14.0)\n",
      "Requirement already satisfied: future in /srv/conda/envs/notebook/lib/python3.7/site-packages (from earthengine-api) (0.18.2)\n",
      "Requirement already satisfied: google-cloud-storage in /srv/conda/envs/notebook/lib/python3.7/site-packages (from earthengine-api) (1.26.0)\n",
      "Requirement already satisfied: httplib2shim in /srv/conda/envs/notebook/lib/python3.7/site-packages (from earthengine-api) (0.0.3)\n",
      "Requirement already satisfied: rsa<4.1,>=3.1.4 in /srv/conda/envs/notebook/lib/python3.7/site-packages (from google-auth>=1.4.1->google-api-python-client) (4.0)\n",
      "Requirement already satisfied: setuptools>=40.3.0 in /srv/conda/envs/notebook/lib/python3.7/site-packages (from google-auth>=1.4.1->google-api-python-client) (45.1.0.post20200119)\n",
      "Requirement already satisfied: pyasn1-modules>=0.2.1 in /srv/conda/envs/notebook/lib/python3.7/site-packages (from google-auth>=1.4.1->google-api-python-client) (0.2.7)\n",
      "Requirement already satisfied: cachetools<5.0,>=2.0.0 in /srv/conda/envs/notebook/lib/python3.7/site-packages (from google-auth>=1.4.1->google-api-python-client) (3.1.1)\n",
      "Requirement already satisfied: google-resumable-media<0.6dev,>=0.5.0 in /srv/conda/envs/notebook/lib/python3.7/site-packages (from google-cloud-storage->earthengine-api) (0.5.0)\n",
      "Requirement already satisfied: google-cloud-core<2.0dev,>=1.2.0 in /srv/conda/envs/notebook/lib/python3.7/site-packages (from google-cloud-storage->earthengine-api) (1.3.0)\n",
      "Requirement already satisfied: certifi in /srv/conda/envs/notebook/lib/python3.7/site-packages (from httplib2shim->earthengine-api) (2019.11.28)\n",
      "Requirement already satisfied: urllib3 in /srv/conda/envs/notebook/lib/python3.7/site-packages (from httplib2shim->earthengine-api) (1.25.7)\n",
      "Requirement already satisfied: pyasn1>=0.1.3 in /srv/conda/envs/notebook/lib/python3.7/site-packages (from rsa<4.1,>=3.1.4->google-auth>=1.4.1->google-api-python-client) (0.4.8)\n",
      "Requirement already satisfied: google-api-core<2.0.0dev,>=1.16.0 in /srv/conda/envs/notebook/lib/python3.7/site-packages (from google-cloud-core<2.0dev,>=1.2.0->google-cloud-storage->earthengine-api) (1.16.0)\n",
      "Requirement already satisfied: protobuf>=3.4.0 in /srv/conda/envs/notebook/lib/python3.7/site-packages (from google-api-core<2.0.0dev,>=1.16.0->google-cloud-core<2.0dev,>=1.2.0->google-cloud-storage->earthengine-api) (3.8.0)\n",
      "Requirement already satisfied: pytz in /srv/conda/envs/notebook/lib/python3.7/site-packages (from google-api-core<2.0.0dev,>=1.16.0->google-cloud-core<2.0dev,>=1.2.0->google-cloud-storage->earthengine-api) (2019.3)\n",
      "Requirement already satisfied: googleapis-common-protos<2.0dev,>=1.6.0 in /srv/conda/envs/notebook/lib/python3.7/site-packages (from google-api-core<2.0.0dev,>=1.16.0->google-cloud-core<2.0dev,>=1.2.0->google-cloud-storage->earthengine-api) (1.51.0)\n",
      "Requirement already satisfied: requests<3.0.0dev,>=2.18.0 in /srv/conda/envs/notebook/lib/python3.7/site-packages (from google-api-core<2.0.0dev,>=1.16.0->google-cloud-core<2.0dev,>=1.2.0->google-cloud-storage->earthengine-api) (2.22.0)\n",
      "Requirement already satisfied: idna<2.9,>=2.5 in /srv/conda/envs/notebook/lib/python3.7/site-packages (from requests<3.0.0dev,>=2.18.0->google-api-core<2.0.0dev,>=1.16.0->google-cloud-core<2.0dev,>=1.2.0->google-cloud-storage->earthengine-api) (2.8)\n",
      "Requirement already satisfied: chardet<3.1.0,>=3.0.2 in /srv/conda/envs/notebook/lib/python3.7/site-packages (from requests<3.0.0dev,>=2.18.0->google-api-core<2.0.0dev,>=1.16.0->google-cloud-core<2.0dev,>=1.2.0->google-cloud-storage->earthengine-api) (3.0.4)\n"
     ]
    },
    {
     "data": {
      "text/html": [
       "<p>To authorize access needed by Earth Engine, open the following\n",
       "        URL in a web browser and follow the instructions:</p>\n",
       "        <p><a href=https://accounts.google.com/o/oauth2/auth?client_id=517222506229-vsmmajv00ul0bs7p89v5m89qs8eb9359.apps.googleusercontent.com&scope=https%3A%2F%2Fwww.googleapis.com%2Fauth%2Fearthengine+https%3A%2F%2Fwww.googleapis.com%2Fauth%2Fdevstorage.full_control&redirect_uri=urn%3Aietf%3Awg%3Aoauth%3A2.0%3Aoob&response_type=code>https://accounts.google.com/o/oauth2/auth?client_id=517222506229-vsmmajv00ul0bs7p89v5m89qs8eb9359.apps.googleusercontent.com&scope=https%3A%2F%2Fwww.googleapis.com%2Fauth%2Fearthengine+https%3A%2F%2Fwww.googleapis.com%2Fauth%2Fdevstorage.full_control&redirect_uri=urn%3Aietf%3Awg%3Aoauth%3A2.0%3Aoob&response_type=code</a></p>\n",
       "        <p>The authorization workflow will generate a code, which you\n",
       "        should paste in the box below</p>\n",
       "        "
      ],
      "text/plain": [
       "<IPython.core.display.HTML object>"
      ]
     },
     "metadata": {},
     "output_type": "display_data"
    },
    {
     "name": "stdin",
     "output_type": "stream",
     "text": [
      "Enter verification code:  4/xAFURN-er1azcU5Mijy87hsSlIXf3ophdhwc-8_HhvfTApfzfR8E-Dk\n"
     ]
    },
    {
     "name": "stdout",
     "output_type": "stream",
     "text": [
      "\n",
      "Successfully saved authorization token.\n"
     ]
    }
   ],
   "source": [
    "# Install, import libraries\n",
    "import sys\n",
    "!{sys.executable} -m pip install google-api-python-client earthengine-api\n",
    "\n",
    "# Import, set up Earth Engine\n",
    "import ee\n",
    "ee.Authenticate()\n",
    "ee.Initialize()"
   ]
  },
  {
   "cell_type": "code",
   "execution_count": 19,
   "metadata": {},
   "outputs": [
    {
     "name": "stdout",
     "output_type": "stream",
     "text": [
      "Mangrove shapes in Costa Rica's 1x1 square: 651\n",
      "Mangrove shapes in Chapel Hill: 0\n"
     ]
    }
   ],
   "source": [
    "shapefile = ee.FeatureCollection('users/pandringa/gmw_2009');\n",
    "\n",
    "costa_rica = shapefile.filterBounds(ee.Geometry.Rectangle(-82.5, 8, -81.5, 9)) # Mangrove forest: 8.235541, -82.373174\n",
    "print('Mangrove shapes in Costa Rica\\'s 1x1 square:', len(costa_rica.getInfo()['features']))\n",
    "\n",
    "chapel_hill_polygon = ee.Geometry.Polygon([\n",
    "    [-79.0899192833252, 35.928421884080535],\n",
    "    [-79.02846451037598, 35.92897789378388],\n",
    "    [-79.02777786486817, 35.891716600077054],\n",
    "    [-79.08923263781739, 35.89227286777993],\n",
    "])\n",
    "chapel_hill = shapefile.filterBounds(chapel_hill_polygon)\n",
    "print('Mangrove shapes in Chapel Hill:', len(chapel_hill.getInfo()['features']))"
   ]
  },
  {
   "cell_type": "code",
   "execution_count": 21,
   "metadata": {},
   "outputs": [
    {
     "data": {
      "text/plain": [
       "{'type': 'Feature',\n",
       " 'geometry': {'type': 'Polygon',\n",
       "  'coordinates': [[[-82.39200073005266, 8.33777879112791],\n",
       "    [-82.3917777760015, 8.337778748743364],\n",
       "    [-82.3917777760015, 8.337109932828263],\n",
       "    [-82.39155482123647, 8.337109890596109],\n",
       "    [-82.39133186575759, 8.337109931170067],\n",
       "    [-82.39133186575759, 8.338001713937947],\n",
       "    [-82.39155482123647, 8.338001673755839],\n",
       "    [-82.39155482123647, 8.338220245640683],\n",
       "    [-82.3917777760015, 8.33822020541231],\n",
       "    [-82.3917777760015, 8.338001716380825],\n",
       "    [-82.39200073005266, 8.33800167591415],\n",
       "    [-82.39200073005266, 8.33777879112791]]]},\n",
       " 'id': '000d00000000000004ff',\n",
       " 'properties': {'ogc_fid': 469055, 'pxlval': 1}}"
      ]
     },
     "execution_count": 21,
     "metadata": {},
     "output_type": "execute_result"
    }
   ],
   "source": [
    "costa_rica.first().getInfo()"
   ]
  },
  {
   "cell_type": "code",
   "execution_count": null,
   "metadata": {},
   "outputs": [],
   "source": []
  }
 ],
 "metadata": {
  "kernelspec": {
   "display_name": "Python 3",
   "language": "python",
   "name": "python3"
  },
  "language_info": {
   "codemirror_mode": {
    "name": "ipython",
    "version": 3
   },
   "file_extension": ".py",
   "mimetype": "text/x-python",
   "name": "python",
   "nbconvert_exporter": "python",
   "pygments_lexer": "ipython3",
   "version": "3.7.6"
  }
 },
 "nbformat": 4,
 "nbformat_minor": 4
}
