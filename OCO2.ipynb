{
 "cells": [
  {
   "cell_type": "code",
   "execution_count": 59,
   "metadata": {},
   "outputs": [
    {
     "name": "stdout",
     "output_type": "stream",
     "text": [
      "Requirement already satisfied: python-dotenv in /srv/conda/envs/notebook/lib/python3.7/site-packages (0.11.0)\n",
      "Requirement already satisfied: pandas in /srv/conda/envs/notebook/lib/python3.7/site-packages (0.25.3)\n",
      "Requirement already satisfied: pydap in /srv/conda/envs/notebook/lib/python3.7/site-packages (3.2.2)\n",
      "Requirement already satisfied: geopandas in /srv/conda/envs/notebook/lib/python3.7/site-packages (0.6.2)\n",
      "Requirement already satisfied: python-dateutil>=2.6.1 in /srv/conda/envs/notebook/lib/python3.7/site-packages (from pandas) (2.7.5)\n",
      "Requirement already satisfied: pytz>=2017.2 in /srv/conda/envs/notebook/lib/python3.7/site-packages (from pandas) (2019.3)\n",
      "Requirement already satisfied: numpy>=1.13.3 in /srv/conda/envs/notebook/lib/python3.7/site-packages (from pandas) (1.17.3)\n",
      "Requirement already satisfied: Jinja2 in /srv/conda/envs/notebook/lib/python3.7/site-packages (from pydap) (2.11.1)\n",
      "Requirement already satisfied: six>=1.4.0 in /srv/conda/envs/notebook/lib/python3.7/site-packages (from pydap) (1.14.0)\n",
      "Requirement already satisfied: beautifulsoup4 in /srv/conda/envs/notebook/lib/python3.7/site-packages (from pydap) (4.8.2)\n",
      "Requirement already satisfied: Webob in /srv/conda/envs/notebook/lib/python3.7/site-packages (from pydap) (1.8.6)\n",
      "Requirement already satisfied: docopt in /srv/conda/envs/notebook/lib/python3.7/site-packages (from pydap) (0.6.2)\n",
      "Requirement already satisfied: shapely in /srv/conda/envs/notebook/lib/python3.7/site-packages (from geopandas) (1.6.4.post2)\n",
      "Requirement already satisfied: fiona in /srv/conda/envs/notebook/lib/python3.7/site-packages (from geopandas) (1.8.6)\n",
      "Requirement already satisfied: pyproj in /srv/conda/envs/notebook/lib/python3.7/site-packages (from geopandas) (1.9.6)\n",
      "Requirement already satisfied: MarkupSafe>=0.23 in /srv/conda/envs/notebook/lib/python3.7/site-packages (from Jinja2->pydap) (1.1.1)\n",
      "Requirement already satisfied: soupsieve>=1.2 in /srv/conda/envs/notebook/lib/python3.7/site-packages (from beautifulsoup4->pydap) (1.9.4)\n",
      "Requirement already satisfied: attrs>=17 in /srv/conda/envs/notebook/lib/python3.7/site-packages (from fiona->geopandas) (19.3.0)\n",
      "Requirement already satisfied: click<8,>=4.0 in /srv/conda/envs/notebook/lib/python3.7/site-packages (from fiona->geopandas) (7.0)\n",
      "Requirement already satisfied: cligj>=0.5 in /srv/conda/envs/notebook/lib/python3.7/site-packages (from fiona->geopandas) (0.5.0)\n",
      "Requirement already satisfied: click-plugins>=1.0 in /srv/conda/envs/notebook/lib/python3.7/site-packages (from fiona->geopandas) (1.1.1)\n",
      "Requirement already satisfied: munch in /srv/conda/envs/notebook/lib/python3.7/site-packages (from fiona->geopandas) (2.5.0)\n",
      "The dotenv extension is already loaded. To reload it, use:\n",
      "  %reload_ext dotenv\n"
     ]
    }
   ],
   "source": [
    "# Install, import libraries\n",
    "import sys\n",
    "!{sys.executable} -m pip install python-dotenv pandas pydap geopandas\n",
    "\n",
    "import geopandas as gpd\n",
    "import pandas as pd\n",
    "from pydap.client import open_url\n",
    "from pydap.cas.urs import setup_session\n",
    "\n",
    "import xarray as xr\n",
    "import requests\n",
    "\n",
    "\n",
    "\n",
    "%load_ext dotenv\n",
    "%dotenv\n",
    "from os import environ"
   ]
  },
  {
   "cell_type": "code",
   "execution_count": 60,
   "metadata": {},
   "outputs": [],
   "source": [
    "datasets = [ ## TODO automate the consturction of this list\n",
    "    \"2020/oco2_LtCO2_200101_B9003r_200204190325s.nc4\",\n",
    "    \"2020/oco2_LtCO2_200102_B9003r_200204190440s.nc4\",\n",
    "    \"2020/oco2_LtCO2_200103_B9003r_200204190754s.nc4\",\n",
    "    \"2020/oco2_LtCO2_200108_B9003r_200204190946s.nc4\",\n",
    "    \"2020/oco2_LtCO2_200109_B9003r_200204191010s.nc4\",\n",
    "    \"2020/oco2_LtCO2_200110_B9003r_200204191136s.nc4\",\n",
    "    \"2020/oco2_LtCO2_200111_B9003r_200204191415s.nc4\",\n",
    "    \"2020/oco2_LtCO2_200112_B9003r_200204191626s.nc4\",\n",
    "    \"2020/oco2_LtCO2_200113_B9003r_200204191752s.nc4\",\n",
    "    \"2020/oco2_LtCO2_200114_B9003r_200204192011s.nc4\",\n",
    "    \"2020/oco2_LtCO2_200115_B9003r_200204192230s.nc4\",\n",
    "    \"2020/oco2_LtCO2_200116_B9003r_200204192449s.nc4\",\n",
    "    \"2020/oco2_LtCO2_200117_B9003r_200204192650s.nc4\",\n",
    "    \"2020/oco2_LtCO2_200118_B9003r_200204192849s.nc4\",\n",
    "    \"2020/oco2_LtCO2_200119_B9003r_200204193103s.nc4\",\n",
    "    \"2020/oco2_LtCO2_200120_B9003r_200204193223s.nc4\",\n",
    "    \"2020/oco2_LtCO2_200121_B9003r_200204193452s.nc4\"\n",
    "]"
   ]
  },
  {
   "cell_type": "code",
   "execution_count": 45,
   "metadata": {},
   "outputs": [
    {
     "name": "stdout",
     "output_type": "stream",
     "text": [
      "Loading dataset... https://oco2.gesdisc.eosdis.nasa.gov/opendap/OCO2_L2_Lite_FP.9r/2020/oco2_LtCO2_200101_B9003r_200204190325s.nc4\n",
      "Loading dataset... https://oco2.gesdisc.eosdis.nasa.gov/opendap/OCO2_L2_Lite_FP.9r/2020/oco2_LtCO2_200102_B9003r_200204190440s.nc4\n",
      "Loading dataset... https://oco2.gesdisc.eosdis.nasa.gov/opendap/OCO2_L2_Lite_FP.9r/2020/oco2_LtCO2_200103_B9003r_200204190754s.nc4\n",
      "Done.\n"
     ]
    }
   ],
   "source": [
    "## Based on code from http://xarray.pydata.org/en/stable/io.html\n",
    "def read_datasets(files, dim, transform_func=None):\n",
    "    base_url = \"https://oco2.gesdisc.eosdis.nasa.gov/opendap/OCO2_L2_Lite_FP.9r/\"\n",
    "    session = setup_session(environ.get(\"EARTHDATA_USER\"), environ.get(\"EARTHDATA_PASS\"), check_url=base_url+files[0])\n",
    "    def process_one_path(path):\n",
    "        print(f\"Loading dataset... {path}\")\n",
    "        # use a context manager, to ensure the file gets closed after use\n",
    "        with xr.backends.PydapDataStore.open(dataset_url, session=session) as store:\n",
    "            with xr.open_dataset(store) as ds:\n",
    "                # transform_func should do some sort of selection or aggregation\n",
    "                # aggregation\n",
    "                if transform_func is not None:\n",
    "                    ds = transform_func(ds)\n",
    "                ds.load()\n",
    "                return ds\n",
    "\n",
    "    paths = sorted(files) # TODO use Glob\n",
    "    datasets = [process_one_path(base_url+p) for p in paths]\n",
    "    \n",
    "    return xr.concat(datasets, dim)\n",
    "\n",
    "# Method to reshape one dataset\n",
    "def reshape_dataset(ds):\n",
    "    return (ds[[ 'sounding_id', 'latitude', 'longitude', 'time', 'xco2' ]]\n",
    "               .set_index(sounding_id=['latitude', 'longitude', 'time']))\n",
    "\n",
    "# here we suppose we only care about the combined mean of each file;\n",
    "# you might also use indexing operations like .sel to subset datasets\n",
    "combined = read_datasets(datasets, dim='sounding_id', transform_func=reshape_dataset)\n",
    "\n",
    "print(\"Done.\")"
   ]
  },
  {
   "cell_type": "code",
   "execution_count": 57,
   "metadata": {},
   "outputs": [
    {
     "name": "stdout",
     "output_type": "stream",
     "text": [
      "Not found.\n"
     ]
    }
   ],
   "source": [
    "unc = [-79.0558,35.9132]\n",
    "radius = 5\n",
    "result = None\n",
    "\n",
    "try:\n",
    "    result = combined.sel(\n",
    "        longitude=slice(unc[0]-radius, unc[0]+radius),\n",
    "        latitude=slice(unc[1]-radius,unc[1]+radius))\n",
    "except KeyError as e:\n",
    "    result = \"Not found.\"\n",
    "\n",
    "print(result)"
   ]
  },
  {
   "cell_type": "code",
   "execution_count": null,
   "metadata": {},
   "outputs": [],
   "source": []
  },
  {
   "cell_type": "code",
   "execution_count": 78,
   "metadata": {},
   "outputs": [],
   "source": []
  },
  {
   "cell_type": "code",
   "execution_count": null,
   "metadata": {},
   "outputs": [],
   "source": []
  },
  {
   "cell_type": "code",
   "execution_count": null,
   "metadata": {},
   "outputs": [],
   "source": []
  },
  {
   "cell_type": "code",
   "execution_count": null,
   "metadata": {},
   "outputs": [],
   "source": []
  }
 ],
 "metadata": {
  "kernelspec": {
   "display_name": "Python 3",
   "language": "python",
   "name": "python3"
  },
  "language_info": {
   "codemirror_mode": {
    "name": "ipython",
    "version": 3
   },
   "file_extension": ".py",
   "mimetype": "text/x-python",
   "name": "python",
   "nbconvert_exporter": "python",
   "pygments_lexer": "ipython3",
   "version": "3.7.6"
  }
 },
 "nbformat": 4,
 "nbformat_minor": 4
}
