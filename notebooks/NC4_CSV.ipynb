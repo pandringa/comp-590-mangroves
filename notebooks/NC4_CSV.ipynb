{
 "cells": [
  {
   "cell_type": "code",
   "execution_count": 1,
   "metadata": {},
   "outputs": [
    {
     "name": "stdout",
     "output_type": "stream",
     "text": [
      "Requirement already satisfied: netcdf4 in /srv/conda/envs/notebook/lib/python3.7/site-packages (1.5.1.2)\n",
      "Requirement already satisfied: numpy>=1.7 in /srv/conda/envs/notebook/lib/python3.7/site-packages (from netcdf4) (1.17.3)\n",
      "Requirement already satisfied: cftime in /srv/conda/envs/notebook/lib/python3.7/site-packages (from netcdf4) (1.0.4.2)\n"
     ]
    }
   ],
   "source": [
    "!pip install netcdf4"
   ]
  },
  {
   "cell_type": "code",
   "execution_count": 2,
   "metadata": {},
   "outputs": [],
   "source": [
    "import xarray as xr\n",
    "FILE = \"2019_soundings\""
   ]
  },
  {
   "cell_type": "code",
   "execution_count": 3,
   "metadata": {},
   "outputs": [
    {
     "data": {
      "text/html": [
       "<pre>&lt;xarray.Dataset&gt;\n",
       "Dimensions:      (sounding_id: 61006170)\n",
       "Coordinates:\n",
       "  * sounding_id  (sounding_id) int64 0 1 2 3 4 ... 149434 149435 149436 149437\n",
       "Data variables:\n",
       "    latitude     (sounding_id) float32 ...\n",
       "    longitude    (sounding_id) float32 ...\n",
       "    time         (sounding_id) datetime64[ns] ...\n",
       "    xco2         (sounding_id) float32 ...\n",
       "Attributes:\n",
       "    identifier_product_doi:            10.5067/W8QGIYNKS3JC\n",
       "    identifier_product_doi_authority:  http://dx.doi.org/\n",
       "    filter_function:                   oco2_xco2_quality_flag_b9\n",
       "    bc_function:                       oco2_bias_correct_b9\n",
       "    warn_level_function:               oco2_warn_levels_b8\n",
       "    Bias_Correction_land:              XCO2_Bias_Corrected = (XCO2_Raw + 0.90...\n",
       "    Bias_Correction_oceanGL:           XCO2_Bias_Corrected = (XCO2_Raw + 0.24...\n",
       "    Footprint_bias_land:               Assumed footprint biases in xco2 [ppm]...\n",
       "    Footprint_bias_oceanGL:            Assumed footprint biases in xco2 [ppm]...\n",
       "    Bias_Uncertainty:                  Bias correction parameter uncertaintie...\n",
       "    Note_regarding_bias_correction:    There is some uncertainty in not only ...\n",
       "    Platform:                          OCO-2\n",
       "    Sensor:                            OCO-2\n",
       "    title:                             ACOS L2 Lite Output\n",
       "    BuildId:                           B8.1.00\n",
       "    filtering_state:                   Filtered with oco2_lite_file_prefilter...\n",
       "    creation_date:                     Mar 2019\n",
       "    contact:                           Chris O&#x27;Dell: odell@atmos.colostate.edu</pre>"
      ],
      "text/plain": [
       "<xarray.Dataset>\n",
       "Dimensions:      (sounding_id: 61006170)\n",
       "Coordinates:\n",
       "  * sounding_id  (sounding_id) int64 0 1 2 3 4 ... 149434 149435 149436 149437\n",
       "Data variables:\n",
       "    latitude     (sounding_id) float32 ...\n",
       "    longitude    (sounding_id) float32 ...\n",
       "    time         (sounding_id) datetime64[ns] ...\n",
       "    xco2         (sounding_id) float32 ...\n",
       "Attributes:\n",
       "    identifier_product_doi:            10.5067/W8QGIYNKS3JC\n",
       "    identifier_product_doi_authority:  http://dx.doi.org/\n",
       "    filter_function:                   oco2_xco2_quality_flag_b9\n",
       "    bc_function:                       oco2_bias_correct_b9\n",
       "    warn_level_function:               oco2_warn_levels_b8\n",
       "    Bias_Correction_land:              XCO2_Bias_Corrected = (XCO2_Raw + 0.90...\n",
       "    Bias_Correction_oceanGL:           XCO2_Bias_Corrected = (XCO2_Raw + 0.24...\n",
       "    Footprint_bias_land:               Assumed footprint biases in xco2 [ppm]...\n",
       "    Footprint_bias_oceanGL:            Assumed footprint biases in xco2 [ppm]...\n",
       "    Bias_Uncertainty:                  Bias correction parameter uncertaintie...\n",
       "    Note_regarding_bias_correction:    There is some uncertainty in not only ...\n",
       "    Platform:                          OCO-2\n",
       "    Sensor:                            OCO-2\n",
       "    title:                             ACOS L2 Lite Output\n",
       "    BuildId:                           B8.1.00\n",
       "    filtering_state:                   Filtered with oco2_lite_file_prefilter...\n",
       "    creation_date:                     Mar 2019\n",
       "    contact:                           Chris O'Dell: odell@atmos.colostate.edu"
      ]
     },
     "execution_count": 3,
     "metadata": {},
     "output_type": "execute_result"
    }
   ],
   "source": [
    "ds = xr.open_dataset(FILE+'.nc')\n",
    "ds"
   ]
  },
  {
   "cell_type": "code",
   "execution_count": 4,
   "metadata": {},
   "outputs": [
    {
     "data": {
      "text/html": [
       "<div>\n",
       "<style scoped>\n",
       "    .dataframe tbody tr th:only-of-type {\n",
       "        vertical-align: middle;\n",
       "    }\n",
       "\n",
       "    .dataframe tbody tr th {\n",
       "        vertical-align: top;\n",
       "    }\n",
       "\n",
       "    .dataframe thead th {\n",
       "        text-align: right;\n",
       "    }\n",
       "</style>\n",
       "<table border=\"1\" class=\"dataframe\">\n",
       "  <thead>\n",
       "    <tr style=\"text-align: right;\">\n",
       "      <th></th>\n",
       "      <th>y</th>\n",
       "      <th>x</th>\n",
       "      <th>time</th>\n",
       "      <th>xco2</th>\n",
       "    </tr>\n",
       "    <tr>\n",
       "      <th>sounding_id</th>\n",
       "      <th></th>\n",
       "      <th></th>\n",
       "      <th></th>\n",
       "      <th></th>\n",
       "    </tr>\n",
       "  </thead>\n",
       "  <tbody>\n",
       "    <tr>\n",
       "      <th>0</th>\n",
       "      <td>-80.313797</td>\n",
       "      <td>-9.986354</td>\n",
       "      <td>2019-01-01 00:21:25.336017664</td>\n",
       "      <td>382.828186</td>\n",
       "    </tr>\n",
       "    <tr>\n",
       "      <th>1</th>\n",
       "      <td>-82.251846</td>\n",
       "      <td>-20.534517</td>\n",
       "      <td>2019-01-01 00:22:11.896014336</td>\n",
       "      <td>399.545135</td>\n",
       "    </tr>\n",
       "    <tr>\n",
       "      <th>2</th>\n",
       "      <td>-84.098289</td>\n",
       "      <td>-38.806301</td>\n",
       "      <td>2019-01-01 00:23:03.642988032</td>\n",
       "      <td>359.711365</td>\n",
       "    </tr>\n",
       "    <tr>\n",
       "      <th>3</th>\n",
       "      <td>-84.800735</td>\n",
       "      <td>-61.691097</td>\n",
       "      <td>2019-01-01 00:23:46.562006784</td>\n",
       "      <td>408.109528</td>\n",
       "    </tr>\n",
       "    <tr>\n",
       "      <th>4</th>\n",
       "      <td>-84.908501</td>\n",
       "      <td>-61.942772</td>\n",
       "      <td>2019-01-01 00:23:46.696989184</td>\n",
       "      <td>407.096527</td>\n",
       "    </tr>\n",
       "    <tr>\n",
       "      <th>...</th>\n",
       "      <td>...</td>\n",
       "      <td>...</td>\n",
       "      <td>...</td>\n",
       "      <td>...</td>\n",
       "    </tr>\n",
       "    <tr>\n",
       "      <th>149433</th>\n",
       "      <td>-75.834396</td>\n",
       "      <td>-132.414536</td>\n",
       "      <td>2019-12-31 23:56:09.895997440</td>\n",
       "      <td>396.056915</td>\n",
       "    </tr>\n",
       "    <tr>\n",
       "      <th>149434</th>\n",
       "      <td>-75.819595</td>\n",
       "      <td>-132.434982</td>\n",
       "      <td>2019-12-31 23:56:10.229007360</td>\n",
       "      <td>404.833771</td>\n",
       "    </tr>\n",
       "    <tr>\n",
       "      <th>149435</th>\n",
       "      <td>-75.821259</td>\n",
       "      <td>-132.596725</td>\n",
       "      <td>2019-12-31 23:56:10.281994240</td>\n",
       "      <td>375.872437</td>\n",
       "    </tr>\n",
       "    <tr>\n",
       "      <th>149436</th>\n",
       "      <td>-75.802902</td>\n",
       "      <td>-132.464935</td>\n",
       "      <td>2019-12-31 23:56:10.562017024</td>\n",
       "      <td>404.834351</td>\n",
       "    </tr>\n",
       "    <tr>\n",
       "      <th>149437</th>\n",
       "      <td>-75.804192</td>\n",
       "      <td>-132.628265</td>\n",
       "      <td>2019-12-31 23:56:10.616009728</td>\n",
       "      <td>369.047302</td>\n",
       "    </tr>\n",
       "  </tbody>\n",
       "</table>\n",
       "<p>61006170 rows × 4 columns</p>\n",
       "</div>"
      ],
      "text/plain": [
       "                     y           x                          time        xco2\n",
       "sounding_id                                                                 \n",
       "0           -80.313797   -9.986354 2019-01-01 00:21:25.336017664  382.828186\n",
       "1           -82.251846  -20.534517 2019-01-01 00:22:11.896014336  399.545135\n",
       "2           -84.098289  -38.806301 2019-01-01 00:23:03.642988032  359.711365\n",
       "3           -84.800735  -61.691097 2019-01-01 00:23:46.562006784  408.109528\n",
       "4           -84.908501  -61.942772 2019-01-01 00:23:46.696989184  407.096527\n",
       "...                ...         ...                           ...         ...\n",
       "149433      -75.834396 -132.414536 2019-12-31 23:56:09.895997440  396.056915\n",
       "149434      -75.819595 -132.434982 2019-12-31 23:56:10.229007360  404.833771\n",
       "149435      -75.821259 -132.596725 2019-12-31 23:56:10.281994240  375.872437\n",
       "149436      -75.802902 -132.464935 2019-12-31 23:56:10.562017024  404.834351\n",
       "149437      -75.804192 -132.628265 2019-12-31 23:56:10.616009728  369.047302\n",
       "\n",
       "[61006170 rows x 4 columns]"
      ]
     },
     "execution_count": 4,
     "metadata": {},
     "output_type": "execute_result"
    }
   ],
   "source": [
    "df = ds.to_dataframe().rename(columns={\"longitude\": \"x\", \"latitude\": \"y\"})\n",
    "df"
   ]
  },
  {
   "cell_type": "code",
   "execution_count": 5,
   "metadata": {},
   "outputs": [],
   "source": [
    "df.to_csv(FILE+'.csv')"
   ]
  },
  {
   "cell_type": "code",
   "execution_count": null,
   "metadata": {},
   "outputs": [],
   "source": []
  }
 ],
 "metadata": {
  "kernelspec": {
   "display_name": "Python 3",
   "language": "python",
   "name": "python3"
  },
  "language_info": {
   "codemirror_mode": {
    "name": "ipython",
    "version": 3
   },
   "file_extension": ".py",
   "mimetype": "text/x-python",
   "name": "python",
   "nbconvert_exporter": "python",
   "pygments_lexer": "ipython3",
   "version": "3.7.3"
  }
 },
 "nbformat": 4,
 "nbformat_minor": 4
}
