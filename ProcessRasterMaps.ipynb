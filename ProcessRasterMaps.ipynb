{
 "cells": [
  {
   "cell_type": "code",
   "execution_count": 1,
   "metadata": {},
   "outputs": [
    {
     "name": "stdout",
     "output_type": "stream",
     "text": [
      "Requirement already satisfied: google-api-python-client in /srv/conda/envs/notebook/lib/python3.7/site-packages (1.7.11)\n",
      "Processing /home/jovyan/.cache/pip/wheels/f0/11/32/ddd1b429816487fd19994004605ce0db8f10642518f29c2dee/earthengine_api-0.1.213-py3-none-any.whl\n",
      "Requirement already satisfied: google-auth-httplib2>=0.0.3 in /srv/conda/envs/notebook/lib/python3.7/site-packages (from google-api-python-client) (0.0.3)\n",
      "Requirement already satisfied: google-auth>=1.4.1 in /srv/conda/envs/notebook/lib/python3.7/site-packages (from google-api-python-client) (1.11.0)\n",
      "Requirement already satisfied: six<2dev,>=1.6.1 in /srv/conda/envs/notebook/lib/python3.7/site-packages (from google-api-python-client) (1.14.0)\n",
      "Requirement already satisfied: httplib2<1dev,>=0.9.2 in /srv/conda/envs/notebook/lib/python3.7/site-packages (from google-api-python-client) (0.17.0)\n",
      "Requirement already satisfied: uritemplate<4dev,>=3.0.0 in /srv/conda/envs/notebook/lib/python3.7/site-packages (from google-api-python-client) (3.0.1)\n",
      "Requirement already satisfied: future in /srv/conda/envs/notebook/lib/python3.7/site-packages (from earthengine-api) (0.18.2)\n",
      "Collecting google-cloud-storage\n",
      "  Using cached google_cloud_storage-1.26.0-py2.py3-none-any.whl (75 kB)\n",
      "Processing /home/jovyan/.cache/pip/wheels/b7/3d/b4/033d07bc6a387ce6e16807fe14d4b780d84c78e54dc73a3568/httplib2shim-0.0.3-py2.py3-none-any.whl\n",
      "Requirement already satisfied: pyasn1-modules>=0.2.1 in /srv/conda/envs/notebook/lib/python3.7/site-packages (from google-auth>=1.4.1->google-api-python-client) (0.2.7)\n",
      "Requirement already satisfied: rsa<4.1,>=3.1.4 in /srv/conda/envs/notebook/lib/python3.7/site-packages (from google-auth>=1.4.1->google-api-python-client) (4.0)\n",
      "Requirement already satisfied: cachetools<5.0,>=2.0.0 in /srv/conda/envs/notebook/lib/python3.7/site-packages (from google-auth>=1.4.1->google-api-python-client) (3.1.1)\n",
      "Requirement already satisfied: setuptools>=40.3.0 in /srv/conda/envs/notebook/lib/python3.7/site-packages (from google-auth>=1.4.1->google-api-python-client) (45.1.0.post20200119)\n",
      "Collecting google-cloud-core<2.0dev,>=1.2.0\n",
      "  Using cached google_cloud_core-1.3.0-py2.py3-none-any.whl (26 kB)\n",
      "Collecting google-resumable-media<0.6dev,>=0.5.0\n",
      "  Using cached google_resumable_media-0.5.0-py2.py3-none-any.whl (38 kB)\n",
      "Requirement already satisfied: urllib3 in /srv/conda/envs/notebook/lib/python3.7/site-packages (from httplib2shim->earthengine-api) (1.25.7)\n",
      "Requirement already satisfied: certifi in /srv/conda/envs/notebook/lib/python3.7/site-packages (from httplib2shim->earthengine-api) (2019.11.28)\n",
      "Requirement already satisfied: pyasn1<0.5.0,>=0.4.6 in /srv/conda/envs/notebook/lib/python3.7/site-packages (from pyasn1-modules>=0.2.1->google-auth>=1.4.1->google-api-python-client) (0.4.8)\n",
      "Collecting google-api-core<2.0.0dev,>=1.16.0\n",
      "  Using cached google_api_core-1.16.0-py2.py3-none-any.whl (70 kB)\n",
      "Requirement already satisfied: requests<3.0.0dev,>=2.18.0 in /srv/conda/envs/notebook/lib/python3.7/site-packages (from google-api-core<2.0.0dev,>=1.16.0->google-cloud-core<2.0dev,>=1.2.0->google-cloud-storage->earthengine-api) (2.22.0)\n",
      "Requirement already satisfied: protobuf>=3.4.0 in /srv/conda/envs/notebook/lib/python3.7/site-packages (from google-api-core<2.0.0dev,>=1.16.0->google-cloud-core<2.0dev,>=1.2.0->google-cloud-storage->earthengine-api) (3.8.0)\n",
      "Processing /home/jovyan/.cache/pip/wheels/4c/a1/71/5e427276ceeff277fd76878d1b19fbf4587a2845015d86864b/googleapis_common_protos-1.51.0-py3-none-any.whl\n",
      "Requirement already satisfied: pytz in /srv/conda/envs/notebook/lib/python3.7/site-packages (from google-api-core<2.0.0dev,>=1.16.0->google-cloud-core<2.0dev,>=1.2.0->google-cloud-storage->earthengine-api) (2019.3)\n",
      "Requirement already satisfied: idna<2.9,>=2.5 in /srv/conda/envs/notebook/lib/python3.7/site-packages (from requests<3.0.0dev,>=2.18.0->google-api-core<2.0.0dev,>=1.16.0->google-cloud-core<2.0dev,>=1.2.0->google-cloud-storage->earthengine-api) (2.8)\n",
      "Requirement already satisfied: chardet<3.1.0,>=3.0.2 in /srv/conda/envs/notebook/lib/python3.7/site-packages (from requests<3.0.0dev,>=2.18.0->google-api-core<2.0.0dev,>=1.16.0->google-cloud-core<2.0dev,>=1.2.0->google-cloud-storage->earthengine-api) (3.0.4)\n",
      "Installing collected packages: googleapis-common-protos, google-api-core, google-cloud-core, google-resumable-media, google-cloud-storage, httplib2shim, earthengine-api\n",
      "Successfully installed earthengine-api-0.1.213 google-api-core-1.16.0 google-cloud-core-1.3.0 google-cloud-storage-1.26.0 google-resumable-media-0.5.0 googleapis-common-protos-1.51.0 httplib2shim-0.0.3\n"
     ]
    }
   ],
   "source": [
    "# Install, import libraries\n",
    "import sys\n",
    "!{sys.executable} -m pip install google-api-python-client earthengine-api\n",
    "\n",
    "import xarray as xr\n",
    "import rasterio"
   ]
  },
  {
   "cell_type": "code",
   "execution_count": 2,
   "metadata": {},
   "outputs": [
    {
     "data": {
      "text/html": [
       "<p>To authorize access needed by Earth Engine, open the following\n",
       "        URL in a web browser and follow the instructions:</p>\n",
       "        <p><a href=https://accounts.google.com/o/oauth2/auth?client_id=517222506229-vsmmajv00ul0bs7p89v5m89qs8eb9359.apps.googleusercontent.com&scope=https%3A%2F%2Fwww.googleapis.com%2Fauth%2Fearthengine+https%3A%2F%2Fwww.googleapis.com%2Fauth%2Fdevstorage.full_control&redirect_uri=urn%3Aietf%3Awg%3Aoauth%3A2.0%3Aoob&response_type=code>https://accounts.google.com/o/oauth2/auth?client_id=517222506229-vsmmajv00ul0bs7p89v5m89qs8eb9359.apps.googleusercontent.com&scope=https%3A%2F%2Fwww.googleapis.com%2Fauth%2Fearthengine+https%3A%2F%2Fwww.googleapis.com%2Fauth%2Fdevstorage.full_control&redirect_uri=urn%3Aietf%3Awg%3Aoauth%3A2.0%3Aoob&response_type=code</a></p>\n",
       "        <p>The authorization workflow will generate a code, which you\n",
       "        should paste in the box below</p>\n",
       "        "
      ],
      "text/plain": [
       "<IPython.core.display.HTML object>"
      ]
     },
     "metadata": {},
     "output_type": "display_data"
    },
    {
     "name": "stdin",
     "output_type": "stream",
     "text": [
      "Enter verification code:  4/xAHEZCfGXabnzrJiGV7YPdr2iNaQ_8L66lZEse6QrknjT6neAG3sM_Q\n"
     ]
    },
    {
     "name": "stdout",
     "output_type": "stream",
     "text": [
      "\n",
      "Successfully saved authorization token.\n"
     ]
    }
   ],
   "source": [
    "# Import, set up Earth Engine\n",
    "import ee\n",
    "ee.Authenticate()\n",
    "ee.Initialize()"
   ]
  },
  {
   "cell_type": "code",
   "execution_count": 55,
   "metadata": {},
   "outputs": [
    {
     "data": {
      "text/plain": [
       "{'type': 'Image',\n",
       " 'bands': [{'id': 'b1',\n",
       "   'data_type': {'type': 'PixelType',\n",
       "    'precision': 'int',\n",
       "    'min': 0,\n",
       "    'max': 65535},\n",
       "   'dimensions': [1295778, 256005],\n",
       "   'crs': 'EPSG:4326',\n",
       "   'crs_transform': [0.000277777999997397,\n",
       "    0,\n",
       "    -179.9506858152323,\n",
       "    0,\n",
       "    -0.000277777999997397,\n",
       "    32.35039825175676]}],\n",
       " 'version': 1557613770825336,\n",
       " 'id': 'users/stuartehamilton/CGMFC-21-2014',\n",
       " 'properties': {'system:description': 'YEAR 2000Gloablk Mangrove Forest Cover\\n\\nStable URL: http://bit.ly/1lMJ9zj\\n\\nData URL: ESRI File Geodatabase http://dx.doi.org/10.13016/M2Q989, GeoTiff http://dx.doi.org/10.7910/DVN/HKGBGS\\n\\nCitation: Hamilton, S. E., & Casey, D. (2016). Creation of a high spatio-temporal resolution global database of continuous mangrove forest cover for the 21st century (CGMFC-21). Global Ecology and Biogeography, 25(6), 729-738. doi:10.1111/geb.1244. \\n\\nAbstract: MFW. This raster dataset represents mangrove forest cover and mangrove forest change annually from 2000 – 2012 inclusive. The attribute value is m2 (stored as a 16 bit unsigned integer value) of mangrove cover for each pixel. The resolution is x = 0.000277778°, y = 0.000277778° or approximately 30m2 within the tropics. Attribute tables are provided. The definition of mangrove is all areas of the globe defined as year 2000 mangrove (Giri et al., 2011).',\n",
       "  'system:footprint': {'type': 'LinearRing',\n",
       "   'coordinates': [[89.65170838169028, -38.76229805118557],\n",
       "    [129.195715867793, -38.76229801684772],\n",
       "    [179.9881534417201, -38.76229775620241],\n",
       "    [179.988125970143, 32.35053743818364],\n",
       "    [107.40257400809999, 32.35053765172023],\n",
       "    [55.55598642952327, 32.3505376144792],\n",
       "    [8.630430879846228, 32.35053765017759],\n",
       "    [-62.373031383889135, 32.35053759820198],\n",
       "    [-117.55889069292213, 32.35053765042451],\n",
       "    [-179.95087630215238, 32.35053738154402],\n",
       "    [-179.9509038004709, -38.76229774896543],\n",
       "    [-140.58229065450232, -38.762298005549994],\n",
       "    [-86.09943586295275, -38.76229798622553],\n",
       "    [-34.780101775431525, -38.76229800744958],\n",
       "    [-0.15712634536080705, -38.76229803959316],\n",
       "    [56.610493285494705, -38.762298046419254],\n",
       "    [89.65170838169028, -38.76229805118557]]},\n",
       "  'system:asset_size': 237757730}}"
      ]
     },
     "execution_count": 55,
     "metadata": {},
     "output_type": "execute_result"
    }
   ],
   "source": [
    "# Import CGMFC-21 Data from EarthEngine\n",
    "\n",
    "cgmfc = ee.Image(\"users/stuartehamilton/CGMFC-21-2014\"); ## OR, CGMFC-21-2000\n",
    "\n",
    "cgmfc.getInfo()"
   ]
  },
  {
   "cell_type": "code",
   "execution_count": 61,
   "metadata": {},
   "outputs": [
    {
     "data": {
      "text/html": [
       "<img src=\"https://earthengine.googleapis.com/v1alpha/projects/earthengine-legacy/thumbnails/e7be77e34a04d911cf33479835918c68-e83600f64a76ea2fd58eb4dde56d463b:getPixels\"/>"
      ],
      "text/plain": [
       "<IPython.core.display.Image object>"
      ]
     },
     "execution_count": 61,
     "metadata": {},
     "output_type": "execute_result"
    }
   ],
   "source": [
    "from IPython.display import Image\n",
    "\n",
    "Image(url= cgmfc.getThumbURL({\n",
    "        'bands': ['b1'],\n",
    "        'dimensions': 1080\n",
    "    })\n",
    ")\n",
    "\n",
    "## Notice the really faint outlines below:"
   ]
  },
  {
   "cell_type": "markdown",
   "metadata": {},
   "source": []
  }
 ],
 "metadata": {
  "kernelspec": {
   "display_name": "Python 3",
   "language": "python",
   "name": "python3"
  },
  "language_info": {
   "codemirror_mode": {
    "name": "ipython",
    "version": 3
   },
   "file_extension": ".py",
   "mimetype": "text/x-python",
   "name": "python",
   "nbconvert_exporter": "python",
   "pygments_lexer": "ipython3",
   "version": "3.7.3"
  }
 },
 "nbformat": 4,
 "nbformat_minor": 4
}
